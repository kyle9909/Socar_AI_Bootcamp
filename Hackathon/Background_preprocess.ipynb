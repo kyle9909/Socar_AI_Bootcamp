{
  "nbformat": 4,
  "nbformat_minor": 0,
  "metadata": {
    "colab": {
      "name": "Background_preprocess.ipynb",
      "provenance": []
    },
    "kernelspec": {
      "name": "python3",
      "display_name": "Python 3"
    },
    "language_info": {
      "name": "python"
    }
  },
  "cells": [
    {
      "cell_type": "markdown",
      "source": [
        "## 영상에 실험해본 결과, 자동차 브랜드, 이름, 주차장 등 labeling 하지 않은 부분이 있어서 background image 사용\n",
        "- jpg로 통일\n",
        "- img resize 필요\n",
        "- /content/drive/MyDrive/Colab_Notebooks/멋사쏘카2기/Hackathon/Socar_Hackerthon-2/train/images 에 추가"
      ],
      "metadata": {
        "id": "3DlT73XPZEM2"
      }
    },
    {
      "cell_type": "code",
      "execution_count": null,
      "metadata": {
        "colab": {
          "base_uri": "https://localhost:8080/"
        },
        "id": "nfqD9X0oYlPH",
        "outputId": "3b3148d6-9c09-4028-bfaa-e8083605acb2"
      },
      "outputs": [
        {
          "output_type": "stream",
          "name": "stdout",
          "text": [
            "Mounted at /content/drive\n"
          ]
        }
      ],
      "source": [
        "from google.colab import drive\n",
        "drive.mount('/content/drive')"
      ]
    },
    {
      "cell_type": "code",
      "source": [
        "from glob import glob\n",
        "\n",
        "bg_img_list = glob('/content/drive/MyDrive/Colab_Notebooks/멋사쏘카2기/Hackathon/background/*')\n",
        "len(bg_img_list)"
      ],
      "metadata": {
        "colab": {
          "base_uri": "https://localhost:8080/"
        },
        "id": "L7O-HlPyY7tp",
        "outputId": "48e3b0ca-1437-4cba-87fb-5e8e31cdbd00"
      },
      "execution_count": null,
      "outputs": [
        {
          "output_type": "execute_result",
          "data": {
            "text/plain": [
              "95"
            ]
          },
          "metadata": {},
          "execution_count": 2
        }
      ]
    },
    {
      "cell_type": "code",
      "source": [
        "bg_img_list[1]"
      ],
      "metadata": {
        "colab": {
          "base_uri": "https://localhost:8080/",
          "height": 36
        },
        "id": "bhd1U7SwfiIS",
        "outputId": "b2003568-9621-43f7-cf58-750795328ace"
      },
      "execution_count": null,
      "outputs": [
        {
          "output_type": "execute_result",
          "data": {
            "text/plain": [
              "'/content/drive/MyDrive/Colab_Notebooks/멋사쏘카2기/Hackathon/background/스크린샷 2022-06-27 오후 8.46.48.png'"
            ],
            "application/vnd.google.colaboratory.intrinsic+json": {
              "type": "string"
            }
          },
          "metadata": {},
          "execution_count": 3
        }
      ]
    },
    {
      "cell_type": "code",
      "source": [
        "from PIL import Image\n",
        "\n",
        "for img in bg_img_list:\n",
        "  if img[-3:] == 'png':\n",
        "    im_name = img[:-3]\n",
        "    im = Image.open(img).convert('RGB')\n",
        "    im.save(im_name+'jpg', 'jpeg')"
      ],
      "metadata": {
        "id": "jhQVC9MPecgR"
      },
      "execution_count": null,
      "outputs": []
    },
    {
      "cell_type": "code",
      "source": [
        "# 이미지가 jpg로 바뀌었음\n",
        "bg_img_list_new = glob('/content/drive/MyDrive/Colab_Notebooks/멋사쏘카2기/Hackathon/background/*.jpg')\n",
        "len(bg_img_list_new)"
      ],
      "metadata": {
        "colab": {
          "base_uri": "https://localhost:8080/"
        },
        "id": "kmFYa1hvgHlQ",
        "outputId": "3831c3c2-a330-4a2d-b53c-b0046f0d83bb"
      },
      "execution_count": null,
      "outputs": [
        {
          "output_type": "execute_result",
          "data": {
            "text/plain": [
              "95"
            ]
          },
          "metadata": {},
          "execution_count": 5
        }
      ]
    },
    {
      "cell_type": "code",
      "source": [
        "bg_img_list_new[0]"
      ],
      "metadata": {
        "colab": {
          "base_uri": "https://localhost:8080/",
          "height": 36
        },
        "id": "UeU1Z1Iqic6_",
        "outputId": "c107e953-bb15-491f-9b81-6b27323963a3"
      },
      "execution_count": null,
      "outputs": [
        {
          "output_type": "execute_result",
          "data": {
            "text/plain": [
              "'/content/drive/MyDrive/Colab_Notebooks/멋사쏘카2기/Hackathon/background/스크린샷 2022-06-27 오후 8.46.38.jpg'"
            ],
            "application/vnd.google.colaboratory.intrinsic+json": {
              "type": "string"
            }
          },
          "metadata": {},
          "execution_count": 6
        }
      ]
    },
    {
      "cell_type": "code",
      "source": [
        "# png파일은 삭제\n",
        "import os\n",
        "[os.remove(f) for f in glob(\"/content/drive/MyDrive/Colab_Notebooks/멋사쏘카2기/Hackathon/background/*.png\")]"
      ],
      "metadata": {
        "id": "5g3Uhuntgc1R"
      },
      "execution_count": null,
      "outputs": []
    },
    {
      "cell_type": "code",
      "source": [
        "len(glob('/content/drive/MyDrive/Colab_Notebooks/멋사쏘카2기/Hackathon/background/*.png'))"
      ],
      "metadata": {
        "colab": {
          "base_uri": "https://localhost:8080/"
        },
        "id": "RZJwyq_bgzkL",
        "outputId": "5d09b7ad-f0db-443b-848c-511301a40c40"
      },
      "execution_count": null,
      "outputs": [
        {
          "output_type": "execute_result",
          "data": {
            "text/plain": [
              "0"
            ]
          },
          "metadata": {},
          "execution_count": 8
        }
      ]
    },
    {
      "cell_type": "code",
      "source": [
        "import os\n",
        "from glob import glob\n",
        "from PIL import Image\n",
        "\n",
        "bg_img_list_new = glob('/content/drive/MyDrive/Colab_Notebooks/멋사쏘카2기/Hackathon/background/*.jpg')\n",
        "\n",
        "for f in bg_img_list_new:\n",
        "    try:\n",
        "        img = Image.open(f)\n",
        "        img_resize = img.resize((416,416))\n",
        "        title, ext = os.path.splitext(f)\n",
        "        img_resize.save(title + '_resize' + ext)\n",
        "    except OSError as e:\n",
        "        pass"
      ],
      "metadata": {
        "id": "XZB4scyHiwD2"
      },
      "execution_count": null,
      "outputs": []
    },
    {
      "cell_type": "code",
      "source": [
        "bg_img_list_re = glob('/content/drive/MyDrive/Colab_Notebooks/멋사쏘카2기/Hackathon/background/*.jpg')"
      ],
      "metadata": {
        "id": "EaKDcBG6kPmX"
      },
      "execution_count": null,
      "outputs": []
    },
    {
      "cell_type": "code",
      "source": [
        "len(bg_img_list_re)"
      ],
      "metadata": {
        "colab": {
          "base_uri": "https://localhost:8080/"
        },
        "id": "M8fBgUsFk3sF",
        "outputId": "d8f7cff1-e26b-4ac4-d5c6-6425f7eb8c2d"
      },
      "execution_count": null,
      "outputs": [
        {
          "output_type": "execute_result",
          "data": {
            "text/plain": [
              "190"
            ]
          },
          "metadata": {},
          "execution_count": 11
        }
      ]
    },
    {
      "cell_type": "code",
      "source": [
        "# resize아닌 image는 삭제\n",
        "for nr in bg_img_list_new:\n",
        "  if nr[-10:-4] != 'resize':\n",
        "    os.remove(nr)"
      ],
      "metadata": {
        "id": "uFLJJj33jX3e"
      },
      "execution_count": null,
      "outputs": []
    },
    {
      "cell_type": "code",
      "source": [
        "bg_img_list_re_new = glob('/content/drive/MyDrive/Colab_Notebooks/멋사쏘카2기/Hackathon/background/*.jpg')\n",
        "len(bg_img_list_re_new)"
      ],
      "metadata": {
        "colab": {
          "base_uri": "https://localhost:8080/"
        },
        "id": "3GI4TGVCktHH",
        "outputId": "a45ca9af-13a5-483e-d998-8292ce18a3b0"
      },
      "execution_count": null,
      "outputs": [
        {
          "output_type": "execute_result",
          "data": {
            "text/plain": [
              "95"
            ]
          },
          "metadata": {},
          "execution_count": 13
        }
      ]
    },
    {
      "cell_type": "markdown",
      "source": [
        "## Augmentor를 이용한 image augmentation"
      ],
      "metadata": {
        "id": "lsIos6sXl2Ja"
      }
    },
    {
      "cell_type": "code",
      "source": [
        "# 3배 augmentation\n",
        "! pip install Augmentor"
      ],
      "metadata": {
        "id": "dONR1yNxk1TH",
        "colab": {
          "base_uri": "https://localhost:8080/"
        },
        "outputId": "5730533e-e9e0-4d4b-e80b-ffb400fcd471"
      },
      "execution_count": null,
      "outputs": [
        {
          "output_type": "stream",
          "name": "stdout",
          "text": [
            "Looking in indexes: https://pypi.org/simple, https://us-python.pkg.dev/colab-wheels/public/simple/\n",
            "Collecting Augmentor\n",
            "  Downloading Augmentor-0.2.10-py2.py3-none-any.whl (38 kB)\n",
            "Requirement already satisfied: future>=0.16.0 in /usr/local/lib/python3.7/dist-packages (from Augmentor) (0.16.0)\n",
            "Requirement already satisfied: numpy>=1.11.0 in /usr/local/lib/python3.7/dist-packages (from Augmentor) (1.21.6)\n",
            "Requirement already satisfied: Pillow>=5.2.0 in /usr/local/lib/python3.7/dist-packages (from Augmentor) (7.1.2)\n",
            "Requirement already satisfied: tqdm>=4.9.0 in /usr/local/lib/python3.7/dist-packages (from Augmentor) (4.64.0)\n",
            "Installing collected packages: Augmentor\n",
            "Successfully installed Augmentor-0.2.10\n"
          ]
        }
      ]
    },
    {
      "cell_type": "code",
      "source": [
        "import Augmentor"
      ],
      "metadata": {
        "id": "vKXydtHzl6Je"
      },
      "execution_count": null,
      "outputs": []
    },
    {
      "cell_type": "code",
      "source": [
        "img = Augmentor.Pipeline('/content/drive/MyDrive/Colab_Notebooks/멋사쏘카2기/Hackathon/background')\n",
        "img.rotate_without_crop(probability=1, max_left_rotation=0.5, max_right_rotation=0.5, expand=False, fillcolor=None)\n",
        "img.flip_left_right(probability=1.0) \n",
        "img.flip_top_bottom(probability=1.0)\n",
        "img.sample(len(bg_img_list_re_new)*2)"
      ],
      "metadata": {
        "colab": {
          "base_uri": "https://localhost:8080/"
        },
        "id": "eGfAvkgel-XD",
        "outputId": "00cdcd34-5d99-40a6-cba0-d8b7be957e83"
      },
      "execution_count": null,
      "outputs": [
        {
          "output_type": "stream",
          "name": "stdout",
          "text": [
            "Initialised with 95 image(s) found.\n",
            "Output directory set to /content/drive/MyDrive/Colab_Notebooks/멋사쏘카2기/Hackathon/background/output."
          ]
        },
        {
          "output_type": "stream",
          "name": "stderr",
          "text": [
            "Processing <PIL.Image.Image image mode=RGB size=416x416 at 0x7EFE4F6497D0>: 100%|██████████| 190/190 [00:07<00:00, 26.45 Samples/s]\n"
          ]
        }
      ]
    },
    {
      "cell_type": "code",
      "source": [
        "img_re_aug = glob('/content/drive/MyDrive/Colab_Notebooks/멋사쏘카2기/Hackathon/background/output/*.jpg')\n",
        "len(img_re_aug)"
      ],
      "metadata": {
        "colab": {
          "base_uri": "https://localhost:8080/"
        },
        "id": "aajkvFL4mG8Y",
        "outputId": "8634b139-7eab-4409-bf24-de391e7797a2"
      },
      "execution_count": null,
      "outputs": [
        {
          "output_type": "execute_result",
          "data": {
            "text/plain": [
              "190"
            ]
          },
          "metadata": {},
          "execution_count": 17
        }
      ]
    },
    {
      "cell_type": "markdown",
      "source": [
        "## 총 158장 augmentation, 총 background image 250장 생성\n",
        "-> /content/drive/MyDrive/Colab_Notebooks/멋사쏘카2기/Hackathon/Socar_Hackerthon-2/train/images 로 이동\n"
      ],
      "metadata": {
        "id": "GLqC0mQypdRc"
      }
    },
    {
      "cell_type": "code",
      "source": [
        "import shutil"
      ],
      "metadata": {
        "id": "sazPLSN1n9yN"
      },
      "execution_count": null,
      "outputs": []
    },
    {
      "cell_type": "code",
      "source": [
        "all_bckg_img = glob('/content/drive/MyDrive/Colab_Notebooks/멋사쏘카2기/Hackathon/background/**/*.jpg', recursive=True)"
      ],
      "metadata": {
        "id": "vZWMGVFZqWog"
      },
      "execution_count": null,
      "outputs": []
    },
    {
      "cell_type": "code",
      "source": [
        "len(all_bckg_img)"
      ],
      "metadata": {
        "colab": {
          "base_uri": "https://localhost:8080/"
        },
        "id": "KhLtCcrVp1us",
        "outputId": "b2ad25ca-25a2-4f68-d52d-0aa1ff107958"
      },
      "execution_count": null,
      "outputs": [
        {
          "output_type": "execute_result",
          "data": {
            "text/plain": [
              "285"
            ]
          },
          "metadata": {},
          "execution_count": 20
        }
      ]
    },
    {
      "cell_type": "code",
      "source": [
        "train_dir = '/content/drive/MyDrive/Colab_Notebooks/멋사쏘카2기/Hackathon/Socar_Hackerthon-2/train/images'\n",
        "for bckg_img_dir in all_bckg_img:\n",
        "  shutil.move(bckg_img_dir, train_dir)"
      ],
      "metadata": {
        "id": "MuTBR8zPp3dj"
      },
      "execution_count": null,
      "outputs": []
    }
  ]
}